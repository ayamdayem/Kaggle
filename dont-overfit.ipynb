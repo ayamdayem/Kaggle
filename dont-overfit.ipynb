{
 "cells": [
  {
   "cell_type": "code",
   "execution_count": 1,
   "id": "55954905",
   "metadata": {
    "_cell_guid": "b1076dfc-b9ad-4769-8c92-a6c4dae69d19",
    "_uuid": "8f2839f25d086af736a60e9eeb907d3b93b6e0e5",
    "execution": {
     "iopub.execute_input": "2021-08-13T21:09:45.355914Z",
     "iopub.status.busy": "2021-08-13T21:09:45.354602Z",
     "iopub.status.idle": "2021-08-13T21:09:46.574322Z",
     "shell.execute_reply": "2021-08-13T21:09:46.575722Z",
     "shell.execute_reply.started": "2021-08-13T21:08:59.500188Z"
    },
    "papermill": {
     "duration": 1.238834,
     "end_time": "2021-08-13T21:09:46.576238",
     "exception": false,
     "start_time": "2021-08-13T21:09:45.337404",
     "status": "completed"
    },
    "tags": []
   },
   "outputs": [
    {
     "name": "stdout",
     "output_type": "stream",
     "text": [
      "/kaggle/input/dont-overfit-ii/sample_submission.csv\n",
      "/kaggle/input/dont-overfit-ii/train.csv\n",
      "/kaggle/input/dont-overfit-ii/test.csv\n",
      "/kaggle/input/dontoverfit/sample_submission.csv\n",
      "/kaggle/input/dontoverfit/train.csv\n",
      "/kaggle/input/dontoverfit/test.csv\n"
     ]
    }
   ],
   "source": [
    "# This Python 3 environment comes with many helpful analytics libraries installed\n",
    "# It is defined by the kaggle/python Docker image: https://github.com/kaggle/docker-python\n",
    "# For example, here's several helpful packages to load\n",
    "\n",
    "import numpy as np # linear algebra\n",
    "import pandas as pd # data processing, CSV file I/O (e.g. pd.read_csv)\n",
    "from sklearn.model_selection import cross_val_score\n",
    "from sklearn.model_selection import LeaveOneOut\n",
    "from sklearn.model_selection import LeavePOut\n",
    "# Input data files are available in the read-only \"../input/\" directory\n",
    "# For example, running this (by clicking run or pressing Shift+Enter) will list all files under the input directory\n",
    "\n",
    "import os\n",
    "for dirname, _, filenames in os.walk('/kaggle/input'):\n",
    "    for filename in filenames:\n",
    "        print(os.path.join(dirname, filename))\n",
    "\n",
    "# You can write up to 20GB to the current directory (/kaggle/working/) that gets preserved as output when you create a version using \"Save & Run All\" \n",
    "# You can also write temporary files to /kaggle/temp/, but they won't be saved outside of the current session"
   ]
  },
  {
   "cell_type": "markdown",
   "id": "4d9a7eed",
   "metadata": {
    "papermill": {
     "duration": 0.014233,
     "end_time": "2021-08-13T21:09:46.609079",
     "exception": false,
     "start_time": "2021-08-13T21:09:46.594846",
     "status": "completed"
    },
    "tags": []
   },
   "source": [
    "# ImportData"
   ]
  },
  {
   "cell_type": "code",
   "execution_count": 2,
   "id": "6a2f54e4",
   "metadata": {
    "execution": {
     "iopub.execute_input": "2021-08-13T21:09:46.643018Z",
     "iopub.status.busy": "2021-08-13T21:09:46.642253Z",
     "iopub.status.idle": "2021-08-13T21:09:48.437222Z",
     "shell.execute_reply": "2021-08-13T21:09:48.436337Z",
     "shell.execute_reply.started": "2021-08-13T21:08:59.524049Z"
    },
    "papermill": {
     "duration": 1.813908,
     "end_time": "2021-08-13T21:09:48.437405",
     "exception": false,
     "start_time": "2021-08-13T21:09:46.623497",
     "status": "completed"
    },
    "tags": []
   },
   "outputs": [],
   "source": [
    "train=pd.read_csv('../input/dontoverfit/train.csv')\n",
    "test=pd.read_csv('../input/dontoverfit/test.csv')"
   ]
  },
  {
   "cell_type": "code",
   "execution_count": 3,
   "id": "1f2e3330",
   "metadata": {
    "execution": {
     "iopub.execute_input": "2021-08-13T21:09:48.470833Z",
     "iopub.status.busy": "2021-08-13T21:09:48.469992Z",
     "iopub.status.idle": "2021-08-13T21:09:48.527819Z",
     "shell.execute_reply": "2021-08-13T21:09:48.527055Z",
     "shell.execute_reply.started": "2021-08-13T21:09:01.262311Z"
    },
    "papermill": {
     "duration": 0.075736,
     "end_time": "2021-08-13T21:09:48.527997",
     "exception": false,
     "start_time": "2021-08-13T21:09:48.452261",
     "status": "completed"
    },
    "tags": []
   },
   "outputs": [
    {
     "data": {
      "text/html": [
       "<div>\n",
       "<style scoped>\n",
       "    .dataframe tbody tr th:only-of-type {\n",
       "        vertical-align: middle;\n",
       "    }\n",
       "\n",
       "    .dataframe tbody tr th {\n",
       "        vertical-align: top;\n",
       "    }\n",
       "\n",
       "    .dataframe thead th {\n",
       "        text-align: right;\n",
       "    }\n",
       "</style>\n",
       "<table border=\"1\" class=\"dataframe\">\n",
       "  <thead>\n",
       "    <tr style=\"text-align: right;\">\n",
       "      <th></th>\n",
       "      <th>id</th>\n",
       "      <th>target</th>\n",
       "      <th>0</th>\n",
       "      <th>1</th>\n",
       "      <th>2</th>\n",
       "      <th>3</th>\n",
       "      <th>4</th>\n",
       "      <th>5</th>\n",
       "      <th>6</th>\n",
       "      <th>7</th>\n",
       "      <th>...</th>\n",
       "      <th>290</th>\n",
       "      <th>291</th>\n",
       "      <th>292</th>\n",
       "      <th>293</th>\n",
       "      <th>294</th>\n",
       "      <th>295</th>\n",
       "      <th>296</th>\n",
       "      <th>297</th>\n",
       "      <th>298</th>\n",
       "      <th>299</th>\n",
       "    </tr>\n",
       "  </thead>\n",
       "  <tbody>\n",
       "    <tr>\n",
       "      <th>0</th>\n",
       "      <td>0</td>\n",
       "      <td>1.0</td>\n",
       "      <td>-0.098</td>\n",
       "      <td>2.165</td>\n",
       "      <td>0.681</td>\n",
       "      <td>-0.614</td>\n",
       "      <td>1.309</td>\n",
       "      <td>-0.455</td>\n",
       "      <td>-0.236</td>\n",
       "      <td>0.276</td>\n",
       "      <td>...</td>\n",
       "      <td>0.867</td>\n",
       "      <td>1.347</td>\n",
       "      <td>0.504</td>\n",
       "      <td>-0.649</td>\n",
       "      <td>0.672</td>\n",
       "      <td>-2.097</td>\n",
       "      <td>1.051</td>\n",
       "      <td>-0.414</td>\n",
       "      <td>1.038</td>\n",
       "      <td>-1.065</td>\n",
       "    </tr>\n",
       "    <tr>\n",
       "      <th>1</th>\n",
       "      <td>1</td>\n",
       "      <td>0.0</td>\n",
       "      <td>1.081</td>\n",
       "      <td>-0.973</td>\n",
       "      <td>-0.383</td>\n",
       "      <td>0.326</td>\n",
       "      <td>-0.428</td>\n",
       "      <td>0.317</td>\n",
       "      <td>1.172</td>\n",
       "      <td>0.352</td>\n",
       "      <td>...</td>\n",
       "      <td>-0.165</td>\n",
       "      <td>-1.695</td>\n",
       "      <td>-1.257</td>\n",
       "      <td>1.359</td>\n",
       "      <td>-0.808</td>\n",
       "      <td>-1.624</td>\n",
       "      <td>-0.458</td>\n",
       "      <td>-1.099</td>\n",
       "      <td>-0.936</td>\n",
       "      <td>0.973</td>\n",
       "    </tr>\n",
       "    <tr>\n",
       "      <th>2</th>\n",
       "      <td>2</td>\n",
       "      <td>1.0</td>\n",
       "      <td>-0.523</td>\n",
       "      <td>-0.089</td>\n",
       "      <td>-0.348</td>\n",
       "      <td>0.148</td>\n",
       "      <td>-0.022</td>\n",
       "      <td>0.404</td>\n",
       "      <td>-0.023</td>\n",
       "      <td>-0.172</td>\n",
       "      <td>...</td>\n",
       "      <td>0.013</td>\n",
       "      <td>0.263</td>\n",
       "      <td>-1.222</td>\n",
       "      <td>0.726</td>\n",
       "      <td>1.444</td>\n",
       "      <td>-1.165</td>\n",
       "      <td>-1.544</td>\n",
       "      <td>0.004</td>\n",
       "      <td>0.800</td>\n",
       "      <td>-1.211</td>\n",
       "    </tr>\n",
       "    <tr>\n",
       "      <th>3</th>\n",
       "      <td>3</td>\n",
       "      <td>1.0</td>\n",
       "      <td>0.067</td>\n",
       "      <td>-0.021</td>\n",
       "      <td>0.392</td>\n",
       "      <td>-1.637</td>\n",
       "      <td>-0.446</td>\n",
       "      <td>-0.725</td>\n",
       "      <td>-1.035</td>\n",
       "      <td>0.834</td>\n",
       "      <td>...</td>\n",
       "      <td>-0.404</td>\n",
       "      <td>0.640</td>\n",
       "      <td>-0.595</td>\n",
       "      <td>-0.966</td>\n",
       "      <td>0.900</td>\n",
       "      <td>0.467</td>\n",
       "      <td>-0.562</td>\n",
       "      <td>-0.254</td>\n",
       "      <td>-0.533</td>\n",
       "      <td>0.238</td>\n",
       "    </tr>\n",
       "    <tr>\n",
       "      <th>4</th>\n",
       "      <td>4</td>\n",
       "      <td>1.0</td>\n",
       "      <td>2.347</td>\n",
       "      <td>-0.831</td>\n",
       "      <td>0.511</td>\n",
       "      <td>-0.021</td>\n",
       "      <td>1.225</td>\n",
       "      <td>1.594</td>\n",
       "      <td>0.585</td>\n",
       "      <td>1.509</td>\n",
       "      <td>...</td>\n",
       "      <td>0.898</td>\n",
       "      <td>0.134</td>\n",
       "      <td>2.415</td>\n",
       "      <td>-0.996</td>\n",
       "      <td>-1.006</td>\n",
       "      <td>1.378</td>\n",
       "      <td>1.246</td>\n",
       "      <td>1.478</td>\n",
       "      <td>0.428</td>\n",
       "      <td>0.253</td>\n",
       "    </tr>\n",
       "  </tbody>\n",
       "</table>\n",
       "<p>5 rows × 302 columns</p>\n",
       "</div>"
      ],
      "text/plain": [
       "   id  target      0      1      2      3      4      5      6      7  ...  \\\n",
       "0   0     1.0 -0.098  2.165  0.681 -0.614  1.309 -0.455 -0.236  0.276  ...   \n",
       "1   1     0.0  1.081 -0.973 -0.383  0.326 -0.428  0.317  1.172  0.352  ...   \n",
       "2   2     1.0 -0.523 -0.089 -0.348  0.148 -0.022  0.404 -0.023 -0.172  ...   \n",
       "3   3     1.0  0.067 -0.021  0.392 -1.637 -0.446 -0.725 -1.035  0.834  ...   \n",
       "4   4     1.0  2.347 -0.831  0.511 -0.021  1.225  1.594  0.585  1.509  ...   \n",
       "\n",
       "     290    291    292    293    294    295    296    297    298    299  \n",
       "0  0.867  1.347  0.504 -0.649  0.672 -2.097  1.051 -0.414  1.038 -1.065  \n",
       "1 -0.165 -1.695 -1.257  1.359 -0.808 -1.624 -0.458 -1.099 -0.936  0.973  \n",
       "2  0.013  0.263 -1.222  0.726  1.444 -1.165 -1.544  0.004  0.800 -1.211  \n",
       "3 -0.404  0.640 -0.595 -0.966  0.900  0.467 -0.562 -0.254 -0.533  0.238  \n",
       "4  0.898  0.134  2.415 -0.996 -1.006  1.378  1.246  1.478  0.428  0.253  \n",
       "\n",
       "[5 rows x 302 columns]"
      ]
     },
     "execution_count": 3,
     "metadata": {},
     "output_type": "execute_result"
    }
   ],
   "source": [
    "train.head()"
   ]
  },
  {
   "cell_type": "code",
   "execution_count": 4,
   "id": "dcc073e8",
   "metadata": {
    "execution": {
     "iopub.execute_input": "2021-08-13T21:09:48.576912Z",
     "iopub.status.busy": "2021-08-13T21:09:48.571505Z",
     "iopub.status.idle": "2021-08-13T21:09:48.602049Z",
     "shell.execute_reply": "2021-08-13T21:09:48.601332Z",
     "shell.execute_reply.started": "2021-08-13T21:09:01.297388Z"
    },
    "papermill": {
     "duration": 0.059693,
     "end_time": "2021-08-13T21:09:48.602223",
     "exception": false,
     "start_time": "2021-08-13T21:09:48.542530",
     "status": "completed"
    },
    "tags": []
   },
   "outputs": [
    {
     "data": {
      "text/html": [
       "<div>\n",
       "<style scoped>\n",
       "    .dataframe tbody tr th:only-of-type {\n",
       "        vertical-align: middle;\n",
       "    }\n",
       "\n",
       "    .dataframe tbody tr th {\n",
       "        vertical-align: top;\n",
       "    }\n",
       "\n",
       "    .dataframe thead th {\n",
       "        text-align: right;\n",
       "    }\n",
       "</style>\n",
       "<table border=\"1\" class=\"dataframe\">\n",
       "  <thead>\n",
       "    <tr style=\"text-align: right;\">\n",
       "      <th></th>\n",
       "      <th>id</th>\n",
       "      <th>0</th>\n",
       "      <th>1</th>\n",
       "      <th>2</th>\n",
       "      <th>3</th>\n",
       "      <th>4</th>\n",
       "      <th>5</th>\n",
       "      <th>6</th>\n",
       "      <th>7</th>\n",
       "      <th>8</th>\n",
       "      <th>...</th>\n",
       "      <th>290</th>\n",
       "      <th>291</th>\n",
       "      <th>292</th>\n",
       "      <th>293</th>\n",
       "      <th>294</th>\n",
       "      <th>295</th>\n",
       "      <th>296</th>\n",
       "      <th>297</th>\n",
       "      <th>298</th>\n",
       "      <th>299</th>\n",
       "    </tr>\n",
       "  </thead>\n",
       "  <tbody>\n",
       "    <tr>\n",
       "      <th>0</th>\n",
       "      <td>250</td>\n",
       "      <td>0.500</td>\n",
       "      <td>-1.033</td>\n",
       "      <td>-1.595</td>\n",
       "      <td>0.309</td>\n",
       "      <td>-0.714</td>\n",
       "      <td>0.502</td>\n",
       "      <td>0.535</td>\n",
       "      <td>-0.129</td>\n",
       "      <td>-0.687</td>\n",
       "      <td>...</td>\n",
       "      <td>-0.088</td>\n",
       "      <td>-2.628</td>\n",
       "      <td>-0.845</td>\n",
       "      <td>2.078</td>\n",
       "      <td>-0.277</td>\n",
       "      <td>2.132</td>\n",
       "      <td>0.609</td>\n",
       "      <td>-0.104</td>\n",
       "      <td>0.312</td>\n",
       "      <td>0.979</td>\n",
       "    </tr>\n",
       "    <tr>\n",
       "      <th>1</th>\n",
       "      <td>251</td>\n",
       "      <td>0.776</td>\n",
       "      <td>0.914</td>\n",
       "      <td>-0.494</td>\n",
       "      <td>1.347</td>\n",
       "      <td>-0.867</td>\n",
       "      <td>0.480</td>\n",
       "      <td>0.578</td>\n",
       "      <td>-0.313</td>\n",
       "      <td>0.203</td>\n",
       "      <td>...</td>\n",
       "      <td>-0.683</td>\n",
       "      <td>-0.066</td>\n",
       "      <td>0.025</td>\n",
       "      <td>0.606</td>\n",
       "      <td>-0.353</td>\n",
       "      <td>-1.133</td>\n",
       "      <td>-3.138</td>\n",
       "      <td>0.281</td>\n",
       "      <td>-0.625</td>\n",
       "      <td>-0.761</td>\n",
       "    </tr>\n",
       "    <tr>\n",
       "      <th>2</th>\n",
       "      <td>252</td>\n",
       "      <td>1.750</td>\n",
       "      <td>0.509</td>\n",
       "      <td>-0.057</td>\n",
       "      <td>0.835</td>\n",
       "      <td>-0.476</td>\n",
       "      <td>1.428</td>\n",
       "      <td>-0.701</td>\n",
       "      <td>-2.009</td>\n",
       "      <td>-1.378</td>\n",
       "      <td>...</td>\n",
       "      <td>-0.094</td>\n",
       "      <td>0.351</td>\n",
       "      <td>-0.607</td>\n",
       "      <td>-0.737</td>\n",
       "      <td>-0.031</td>\n",
       "      <td>0.701</td>\n",
       "      <td>0.976</td>\n",
       "      <td>0.135</td>\n",
       "      <td>-1.327</td>\n",
       "      <td>2.463</td>\n",
       "    </tr>\n",
       "    <tr>\n",
       "      <th>3</th>\n",
       "      <td>253</td>\n",
       "      <td>-0.556</td>\n",
       "      <td>-1.855</td>\n",
       "      <td>-0.682</td>\n",
       "      <td>0.578</td>\n",
       "      <td>1.592</td>\n",
       "      <td>0.512</td>\n",
       "      <td>-1.419</td>\n",
       "      <td>0.722</td>\n",
       "      <td>0.511</td>\n",
       "      <td>...</td>\n",
       "      <td>-0.336</td>\n",
       "      <td>-0.787</td>\n",
       "      <td>0.255</td>\n",
       "      <td>-0.031</td>\n",
       "      <td>-0.836</td>\n",
       "      <td>0.916</td>\n",
       "      <td>2.411</td>\n",
       "      <td>1.053</td>\n",
       "      <td>-1.601</td>\n",
       "      <td>-1.529</td>\n",
       "    </tr>\n",
       "    <tr>\n",
       "      <th>4</th>\n",
       "      <td>254</td>\n",
       "      <td>0.754</td>\n",
       "      <td>-0.245</td>\n",
       "      <td>1.173</td>\n",
       "      <td>-1.623</td>\n",
       "      <td>0.009</td>\n",
       "      <td>0.370</td>\n",
       "      <td>0.781</td>\n",
       "      <td>-1.763</td>\n",
       "      <td>-1.432</td>\n",
       "      <td>...</td>\n",
       "      <td>2.184</td>\n",
       "      <td>-1.090</td>\n",
       "      <td>0.216</td>\n",
       "      <td>1.186</td>\n",
       "      <td>-0.143</td>\n",
       "      <td>0.322</td>\n",
       "      <td>-0.068</td>\n",
       "      <td>-0.156</td>\n",
       "      <td>-1.153</td>\n",
       "      <td>0.825</td>\n",
       "    </tr>\n",
       "  </tbody>\n",
       "</table>\n",
       "<p>5 rows × 301 columns</p>\n",
       "</div>"
      ],
      "text/plain": [
       "    id      0      1      2      3      4      5      6      7      8  ...  \\\n",
       "0  250  0.500 -1.033 -1.595  0.309 -0.714  0.502  0.535 -0.129 -0.687  ...   \n",
       "1  251  0.776  0.914 -0.494  1.347 -0.867  0.480  0.578 -0.313  0.203  ...   \n",
       "2  252  1.750  0.509 -0.057  0.835 -0.476  1.428 -0.701 -2.009 -1.378  ...   \n",
       "3  253 -0.556 -1.855 -0.682  0.578  1.592  0.512 -1.419  0.722  0.511  ...   \n",
       "4  254  0.754 -0.245  1.173 -1.623  0.009  0.370  0.781 -1.763 -1.432  ...   \n",
       "\n",
       "     290    291    292    293    294    295    296    297    298    299  \n",
       "0 -0.088 -2.628 -0.845  2.078 -0.277  2.132  0.609 -0.104  0.312  0.979  \n",
       "1 -0.683 -0.066  0.025  0.606 -0.353 -1.133 -3.138  0.281 -0.625 -0.761  \n",
       "2 -0.094  0.351 -0.607 -0.737 -0.031  0.701  0.976  0.135 -1.327  2.463  \n",
       "3 -0.336 -0.787  0.255 -0.031 -0.836  0.916  2.411  1.053 -1.601 -1.529  \n",
       "4  2.184 -1.090  0.216  1.186 -0.143  0.322 -0.068 -0.156 -1.153  0.825  \n",
       "\n",
       "[5 rows x 301 columns]"
      ]
     },
     "execution_count": 4,
     "metadata": {},
     "output_type": "execute_result"
    }
   ],
   "source": [
    "test.head()"
   ]
  },
  {
   "cell_type": "code",
   "execution_count": 5,
   "id": "e644e73b",
   "metadata": {
    "execution": {
     "iopub.execute_input": "2021-08-13T21:09:48.641530Z",
     "iopub.status.busy": "2021-08-13T21:09:48.640658Z",
     "iopub.status.idle": "2021-08-13T21:09:48.646009Z",
     "shell.execute_reply": "2021-08-13T21:09:48.645324Z",
     "shell.execute_reply.started": "2021-08-13T21:09:01.332802Z"
    },
    "papermill": {
     "duration": 0.027864,
     "end_time": "2021-08-13T21:09:48.646217",
     "exception": false,
     "start_time": "2021-08-13T21:09:48.618353",
     "status": "completed"
    },
    "tags": []
   },
   "outputs": [
    {
     "name": "stdout",
     "output_type": "stream",
     "text": [
      "(250, 302)\n",
      "(19750, 301)\n"
     ]
    }
   ],
   "source": [
    "print(train.shape)\n",
    "print(test.shape)\n"
   ]
  },
  {
   "cell_type": "code",
   "execution_count": 6,
   "id": "a558f8de",
   "metadata": {
    "execution": {
     "iopub.execute_input": "2021-08-13T21:09:48.716614Z",
     "iopub.status.busy": "2021-08-13T21:09:48.715399Z",
     "iopub.status.idle": "2021-08-13T21:09:48.722069Z",
     "shell.execute_reply": "2021-08-13T21:09:48.721117Z",
     "shell.execute_reply.started": "2021-08-13T21:09:01.340842Z"
    },
    "papermill": {
     "duration": 0.059379,
     "end_time": "2021-08-13T21:09:48.722241",
     "exception": false,
     "start_time": "2021-08-13T21:09:48.662862",
     "status": "completed"
    },
    "tags": []
   },
   "outputs": [
    {
     "name": "stdout",
     "output_type": "stream",
     "text": [
      "<class 'pandas.core.frame.DataFrame'>\n",
      "RangeIndex: 250 entries, 0 to 249\n",
      "Columns: 302 entries, id to 299\n",
      "dtypes: float64(301), int64(1)\n",
      "memory usage: 590.0 KB\n"
     ]
    }
   ],
   "source": [
    "y=train['target']\n",
    "\n",
    "train.info()"
   ]
  },
  {
   "cell_type": "code",
   "execution_count": 7,
   "id": "19db54be",
   "metadata": {
    "execution": {
     "iopub.execute_input": "2021-08-13T21:09:48.792781Z",
     "iopub.status.busy": "2021-08-13T21:09:48.791628Z",
     "iopub.status.idle": "2021-08-13T21:09:48.795877Z",
     "shell.execute_reply": "2021-08-13T21:09:48.795239Z",
     "shell.execute_reply.started": "2021-08-13T21:09:01.372692Z"
    },
    "papermill": {
     "duration": 0.057024,
     "end_time": "2021-08-13T21:09:48.796058",
     "exception": false,
     "start_time": "2021-08-13T21:09:48.739034",
     "status": "completed"
    },
    "tags": []
   },
   "outputs": [],
   "source": [
    "train= train.drop(['id','target'], axis=1).values\n",
    "test=test.drop(['id'], axis=1).values"
   ]
  },
  {
   "cell_type": "markdown",
   "id": "74138bec",
   "metadata": {
    "papermill": {
     "duration": 0.018039,
     "end_time": "2021-08-13T21:09:48.831495",
     "exception": false,
     "start_time": "2021-08-13T21:09:48.813456",
     "status": "completed"
    },
    "tags": []
   },
   "source": [
    "# Cross Validation"
   ]
  },
  {
   "cell_type": "code",
   "execution_count": 8,
   "id": "d8b40cd0",
   "metadata": {
    "execution": {
     "iopub.execute_input": "2021-08-13T21:09:48.869867Z",
     "iopub.status.busy": "2021-08-13T21:09:48.868567Z",
     "iopub.status.idle": "2021-08-13T21:09:48.923268Z",
     "shell.execute_reply": "2021-08-13T21:09:48.923931Z",
     "shell.execute_reply.started": "2021-08-13T21:09:01.402997Z"
    },
    "papermill": {
     "duration": 0.07659,
     "end_time": "2021-08-13T21:09:48.924137",
     "exception": false,
     "start_time": "2021-08-13T21:09:48.847547",
     "status": "completed"
    },
    "tags": []
   },
   "outputs": [],
   "source": [
    "from sklearn.preprocessing import StandardScaler\n",
    "scaler = StandardScaler()\n",
    "train=scaler.fit_transform(train)\n",
    "test=scaler.transform(test)"
   ]
  },
  {
   "cell_type": "code",
   "execution_count": null,
   "id": "13ba600a",
   "metadata": {
    "papermill": {
     "duration": 0.015543,
     "end_time": "2021-08-13T21:09:48.956716",
     "exception": false,
     "start_time": "2021-08-13T21:09:48.941173",
     "status": "completed"
    },
    "tags": []
   },
   "outputs": [],
   "source": []
  },
  {
   "cell_type": "code",
   "execution_count": 9,
   "id": "94f850dc",
   "metadata": {
    "execution": {
     "iopub.execute_input": "2021-08-13T21:09:48.996173Z",
     "iopub.status.busy": "2021-08-13T21:09:48.992717Z",
     "iopub.status.idle": "2021-08-13T21:09:54.969399Z",
     "shell.execute_reply": "2021-08-13T21:09:54.970473Z",
     "shell.execute_reply.started": "2021-08-13T21:09:01.457393Z"
    },
    "papermill": {
     "duration": 5.997105,
     "end_time": "2021-08-13T21:09:54.970822",
     "exception": false,
     "start_time": "2021-08-13T21:09:48.973717",
     "status": "completed"
    },
    "tags": []
   },
   "outputs": [],
   "source": [
    "from sklearn.linear_model import LogisticRegression\n",
    "from sklearn.model_selection import GridSearchCV , train_test_split , cross_val_score\n",
    "loocv = LeaveOneOut()\n",
    "model_loocv = LogisticRegression(class_weight='balanced', C= 0.1, max_iter=10000).fit(train, y)\n",
    "results_loocv = cross_val_score(model_loocv, train, y, cv=loocv)"
   ]
  },
  {
   "cell_type": "code",
   "execution_count": 10,
   "id": "5e774096",
   "metadata": {
    "execution": {
     "iopub.execute_input": "2021-08-13T21:09:55.040966Z",
     "iopub.status.busy": "2021-08-13T21:09:55.039698Z",
     "iopub.status.idle": "2021-08-13T21:09:55.077020Z",
     "shell.execute_reply": "2021-08-13T21:09:55.078244Z",
     "shell.execute_reply.started": "2021-08-13T21:09:05.810860Z"
    },
    "papermill": {
     "duration": 0.076046,
     "end_time": "2021-08-13T21:09:55.078602",
     "exception": false,
     "start_time": "2021-08-13T21:09:55.002556",
     "status": "completed"
    },
    "tags": []
   },
   "outputs": [
    {
     "data": {
      "text/plain": [
       "array([[0.54827332, 0.45172668],\n",
       "       [0.79566907, 0.20433093],\n",
       "       [0.46000842, 0.53999158],\n",
       "       ...,\n",
       "       [0.21556085, 0.78443915],\n",
       "       [0.03016414, 0.96983586],\n",
       "       [0.67597571, 0.32402429]])"
      ]
     },
     "execution_count": 10,
     "metadata": {},
     "output_type": "execute_result"
    }
   ],
   "source": [
    "model_loocv.fit(train,y)\n",
    "final = model_loocv.predict_proba(test)\n",
    "final"
   ]
  },
  {
   "cell_type": "markdown",
   "id": "2ada9553",
   "metadata": {
    "papermill": {
     "duration": 0.039859,
     "end_time": "2021-08-13T21:09:55.171882",
     "exception": false,
     "start_time": "2021-08-13T21:09:55.132023",
     "status": "completed"
    },
    "tags": []
   },
   "source": [
    "# Submission File"
   ]
  },
  {
   "cell_type": "code",
   "execution_count": 11,
   "id": "8bb0b871",
   "metadata": {
    "execution": {
     "iopub.execute_input": "2021-08-13T21:09:55.244212Z",
     "iopub.status.busy": "2021-08-13T21:09:55.242901Z",
     "iopub.status.idle": "2021-08-13T21:09:55.360891Z",
     "shell.execute_reply": "2021-08-13T21:09:55.360109Z",
     "shell.execute_reply.started": "2021-08-13T21:09:05.851768Z"
    },
    "papermill": {
     "duration": 0.148206,
     "end_time": "2021-08-13T21:09:55.361084",
     "exception": false,
     "start_time": "2021-08-13T21:09:55.212878",
     "status": "completed"
    },
    "tags": []
   },
   "outputs": [
    {
     "data": {
      "text/html": [
       "<div>\n",
       "<style scoped>\n",
       "    .dataframe tbody tr th:only-of-type {\n",
       "        vertical-align: middle;\n",
       "    }\n",
       "\n",
       "    .dataframe tbody tr th {\n",
       "        vertical-align: top;\n",
       "    }\n",
       "\n",
       "    .dataframe thead th {\n",
       "        text-align: right;\n",
       "    }\n",
       "</style>\n",
       "<table border=\"1\" class=\"dataframe\">\n",
       "  <thead>\n",
       "    <tr style=\"text-align: right;\">\n",
       "      <th></th>\n",
       "      <th>id</th>\n",
       "      <th>target</th>\n",
       "    </tr>\n",
       "  </thead>\n",
       "  <tbody>\n",
       "    <tr>\n",
       "      <th>0</th>\n",
       "      <td>250</td>\n",
       "      <td>0.451727</td>\n",
       "    </tr>\n",
       "    <tr>\n",
       "      <th>1</th>\n",
       "      <td>251</td>\n",
       "      <td>0.204331</td>\n",
       "    </tr>\n",
       "    <tr>\n",
       "      <th>2</th>\n",
       "      <td>252</td>\n",
       "      <td>0.539992</td>\n",
       "    </tr>\n",
       "    <tr>\n",
       "      <th>3</th>\n",
       "      <td>253</td>\n",
       "      <td>0.993522</td>\n",
       "    </tr>\n",
       "    <tr>\n",
       "      <th>4</th>\n",
       "      <td>254</td>\n",
       "      <td>0.381840</td>\n",
       "    </tr>\n",
       "    <tr>\n",
       "      <th>...</th>\n",
       "      <td>...</td>\n",
       "      <td>...</td>\n",
       "    </tr>\n",
       "    <tr>\n",
       "      <th>19745</th>\n",
       "      <td>19995</td>\n",
       "      <td>0.490003</td>\n",
       "    </tr>\n",
       "    <tr>\n",
       "      <th>19746</th>\n",
       "      <td>19996</td>\n",
       "      <td>0.772139</td>\n",
       "    </tr>\n",
       "    <tr>\n",
       "      <th>19747</th>\n",
       "      <td>19997</td>\n",
       "      <td>0.784439</td>\n",
       "    </tr>\n",
       "    <tr>\n",
       "      <th>19748</th>\n",
       "      <td>19998</td>\n",
       "      <td>0.969836</td>\n",
       "    </tr>\n",
       "    <tr>\n",
       "      <th>19749</th>\n",
       "      <td>19999</td>\n",
       "      <td>0.324024</td>\n",
       "    </tr>\n",
       "  </tbody>\n",
       "</table>\n",
       "<p>19750 rows × 2 columns</p>\n",
       "</div>"
      ],
      "text/plain": [
       "          id    target\n",
       "0        250  0.451727\n",
       "1        251  0.204331\n",
       "2        252  0.539992\n",
       "3        253  0.993522\n",
       "4        254  0.381840\n",
       "...      ...       ...\n",
       "19745  19995  0.490003\n",
       "19746  19996  0.772139\n",
       "19747  19997  0.784439\n",
       "19748  19998  0.969836\n",
       "19749  19999  0.324024\n",
       "\n",
       "[19750 rows x 2 columns]"
      ]
     },
     "execution_count": 11,
     "metadata": {},
     "output_type": "execute_result"
    }
   ],
   "source": [
    "submit = pd.read_csv('../input/dontoverfit/sample_submission.csv')\n",
    "submit.columns\n",
    "\n",
    "submit['target'] = final[:,1]\n",
    "submit.to_csv('submit.csv', index = False)\n",
    "submit"
   ]
  },
  {
   "cell_type": "markdown",
   "id": "2ba6a98a",
   "metadata": {
    "papermill": {
     "duration": 0.017397,
     "end_time": "2021-08-13T21:09:55.397228",
     "exception": false,
     "start_time": "2021-08-13T21:09:55.379831",
     "status": "completed"
    },
    "tags": []
   },
   "source": []
  }
 ],
 "metadata": {
  "kernelspec": {
   "display_name": "Python 3",
   "language": "python",
   "name": "python3"
  },
  "language_info": {
   "codemirror_mode": {
    "name": "ipython",
    "version": 3
   },
   "file_extension": ".py",
   "mimetype": "text/x-python",
   "name": "python",
   "nbconvert_exporter": "python",
   "pygments_lexer": "ipython3",
   "version": "3.7.10"
  },
  "papermill": {
   "default_parameters": {},
   "duration": 21.954592,
   "end_time": "2021-08-13T21:09:56.816110",
   "environment_variables": {},
   "exception": null,
   "input_path": "__notebook__.ipynb",
   "output_path": "__notebook__.ipynb",
   "parameters": {},
   "start_time": "2021-08-13T21:09:34.861518",
   "version": "2.3.3"
  }
 },
 "nbformat": 4,
 "nbformat_minor": 5
}
